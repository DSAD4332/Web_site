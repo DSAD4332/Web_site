{
  "metadata": {
    "kernelspec": {
      "name": "python",
      "display_name": "Python (Pyodide)",
      "language": "python"
    },
    "language_info": {
      "codemirror_mode": {
        "name": "python",
        "version": 3
      },
      "file_extension": ".py",
      "mimetype": "text/x-python",
      "name": "python",
      "nbconvert_exporter": "python",
      "pygments_lexer": "ipython3",
      "version": "3.8"
    }
  },
  "nbformat_minor": 4,
  "nbformat": 4,
  "cells": [
    {
      "cell_type": "markdown",
      "source": "# Документация по Резервному Копированию и Восстановлению Данных\n",
      "metadata": {}
    },
    {
      "cell_type": "markdown",
      "source": "```sh\n# Дата для имени файла\nDATE=$(date +%Y-%m-%d-%H%M%S)\n\n# Пути сохранения резервных копий\nBACKUP_DIR=\"/path/to/your/backup/directory\"\nDB_BACKUP_PATH=\"$BACKUP_DIR/db\"\nFILES_BACKUP_PATH=\"$BACKUP_DIR/files\"\n\n# Настройки базы данных\nDB_NAME=\"your_db_name\"\nDB_USER=\"your_db_user\"\nDB_PASSWORD=\"your_db_password\"\n\n# Создание директорий для резервных копий, если они еще не существуют\nmkdir -p $DB_BACKUP_PATH\nmkdir -p $FILES_BACKUP_PATH\n\n# Резервное копирование базы данных\nPGPASSWORD=$DB_PASSWORD pg_dump -U $DB_USER $DB_NAME > \"$DB_BACKUP_PATH/db_backup_$DATE.sql\"\n\n# Резервное копирование файлов проекта\ntar czf \"$FILES_BACKUP_PATH/files_backup_$DATE.tar.gz\" /path/to/your/django/project\n\necho \"Backup completed on $DATE\"",
      "metadata": {}
    },
    {
      "cell_type": "markdown",
      "source": "## Резервное Копирование",
      "metadata": {}
    },
    {
      "cell_type": "markdown",
      "source": "## Автоматическое Резервное Копирование\n\n### Настройка\n\n#### **Создание Скрипта Резервного Копирования:**\n* Разместите скрипт резервного копирования на сервере.\n* Убедитесь, что скрипт содержит корректные пути и параметры доступа к базе данных.\n\n#### **Предоставление Прав на Исполнение:**\n* Выполните команду **chmod +x backup** для предоставления прав на исполнение скрипту.\n\n#### **Настройка Cron:**\n* Откройте crontab на редактирование: **crontab -e.**\n* Добавьте строку для запуска скрипта по расписанию, например: **0 3 * * Sun /path/to/your/backup для запуска в 3:00** утра каждое воскресенье.",
      "metadata": {},
      "attachments": {}
    },
    {
      "cell_type": "markdown",
      "source": "### Работа\n\n* Скрипт автоматически запускается по расписанию, заданному в crontab.\n* Создаются резервные копии базы данных и файлов проекта.\n\n### Ручное Резервное Копирование\n\n* Запуск Скрипта: В консоли введите **chmod +x backup.sh** и **./backup.sh** из директории, где он расположен.      ",
      "metadata": {
        "jp-MarkdownHeadingCollapsed": true
      },
      "attachments": {}
    },
    {
      "cell_type": "markdown",
      "source": "## Восстановление из Резервной Копии",
      "metadata": {}
    },
    {
      "cell_type": "markdown",
      "source": "### Восстановление Базы Данных\n#### Создание Пустой Базы Данных (если необходимо):\n* **createdb -U your_db_user new_db_name.**\n#### Восстановление из Резервной Копии:\n* **psql -U your_db_user new_db_name < /path/to/your/db_backup.sql.**\n### Восстановление Файлов Проекта\n* Распаковка Архива: **tar xzf /path/to/your/files_backup.tar.gz -C /destination/path.**\n#### Проверка и Настройка\n* Проверьте данные в базе данных.\n* Убедитесь, что файлы проекта находятся в нужных директориях.\n* При необходимости обновите конфигурационные файлы Django.",
      "metadata": {}
    },
    {
      "cell_type": "markdown",
      "source": "### Важные Замечания\n* Регулярно проверяйте актуальность и работоспособность резервных копий.\n* Храните копии в безопасных местах, желательно с географическим разнообразием (например, в облачном хранилище).\n* Перед восстановлением данных на рабочем сервере рекомендуется провести тестирование восстановления в изолированной среде.",
      "metadata": {}
    }
  ]
}